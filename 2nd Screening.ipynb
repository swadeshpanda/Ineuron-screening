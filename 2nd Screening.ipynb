{
 "cells": [
  {
   "cell_type": "code",
   "execution_count": 2,
   "id": "93ddc045",
   "metadata": {},
   "outputs": [
    {
     "name": "stdout",
     "output_type": "stream",
     "text": [
      "This is the first Decorator Function \n",
      "This is the second Decorator Function \n",
      "This is the main function\n",
      "IneuronAssignment\n"
     ]
    }
   ],
   "source": [
    "\n",
    "###Decorator\n",
    "### A decorator takes in a function, adds some functionality and returns it.\n",
    "\n",
    "import logging\n",
    "logging.basicConfig(filename=\"FileOpLog33.log\", level=logging.DEBUG, format='%(asctime)s %(levelname)s %(message)s')\n",
    "\n",
    "def my_decorator1(func):\n",
    "    def my_function1(*args, **kwargs):\n",
    "        try:\n",
    "            print(\"This is the first Decorator Function \")\n",
    "            return func(*args, **kwargs)\n",
    "        except Exception as err:\n",
    "            logging.exception(f\"Exception occurred while creating the file.Error:{err}\")\n",
    "    return my_function1\n",
    "\n",
    "\n",
    "def my_decorator2(func):\n",
    "    def my_function2(*args, **kwargs):\n",
    "        try:\n",
    "            print(\"This is the second Decorator Function \")\n",
    "            return func(*args, **kwargs)\n",
    "        except Exception as err:\n",
    "            logging.exception(f\"Exception occurred while creating the file.Error:{err}\")\n",
    "    return my_function2\n",
    "\n",
    "\n",
    "@my_decorator1\n",
    "@my_decorator2\n",
    "def my_function(str1, str2):\n",
    "    print(\"This is the main function\")\n",
    "    print(str1  +  str2)\n",
    "my_function(\"Ineuron\", \"Assignment\")"
   ]
  },
  {
   "cell_type": "markdown",
   "id": "89351af7",
   "metadata": {},
   "source": [
    "Multiple inheritance \n",
    "When a class is derived from more than one base class it is called multiple Inheritance. The derived class inherits all the features of the base case."
   ]
  },
  {
   "cell_type": "code",
   "execution_count": 3,
   "id": "86c1b72f",
   "metadata": {},
   "outputs": [],
   "source": [
    "import logging\n",
    "logging.basicConfig(filename=\"inheritance.log\", level=logging.DEBUG, format='%(asctime)s %(levelname)s %(message)s')\n",
    "\n",
    "class dad:\n",
    "    \n",
    "    def __init__(self):\n",
    "        print(\"This is dad's init\")\n",
    "        \n",
    "    def func1(self):\n",
    "        print(\"This is dad's method\")\n",
    "\n",
    "class mom:\n",
    "    \n",
    "    def __init__(self):\n",
    "        print(\"This is mom's init\")\n",
    "    \n",
    "    def func1(self):\n",
    "        print(\"This is mom's method\")\n",
    "        \n",
    "# Child class inherits mom and dad\n",
    "\n",
    "class child(dad,mom):\n",
    "    \n",
    "    def __init__(self):\n",
    "        print(\"This is child init\")\n",
    "    \n",
    "    def func1(self):\n",
    "        print(\"This is child method\")"
   ]
  },
  {
   "cell_type": "code",
   "execution_count": 4,
   "id": "47e14e4e",
   "metadata": {},
   "outputs": [
    {
     "name": "stdout",
     "output_type": "stream",
     "text": [
      "This is child init\n"
     ]
    }
   ],
   "source": [
    "obj = child()"
   ]
  },
  {
   "cell_type": "code",
   "execution_count": 5,
   "id": "755cb794",
   "metadata": {},
   "outputs": [],
   "source": [
    "class dad:\n",
    "    \n",
    "    def __init__(self):\n",
    "        print(\"This is dad's init\")\n",
    "        \n",
    "    def func1(self):\n",
    "        print(\"This is dad's method\")\n",
    "\n",
    "class mom:\n",
    "    \n",
    "    def __init__(self):\n",
    "        print(\"This is mom's init\")\n",
    "    \n",
    "    def func1(self):\n",
    "        print(\"This is mom's method\")\n",
    "        \n",
    "# Child class inherits mom and dad\n",
    "class child(dad,mom):\n",
    "    \n",
    "    def __init__(self):\n",
    "        print(\"This is child init\")\n",
    "        \n",
    "        super().__init__()                 ## This displays MRO\n",
    "    \n",
    "    def func1(self):\n",
    "        print(\"This is child method\")\n",
    "        \n",
    "        super().func1()  "
   ]
  },
  {
   "cell_type": "code",
   "execution_count": 6,
   "id": "b6a5aee2",
   "metadata": {},
   "outputs": [
    {
     "name": "stdout",
     "output_type": "stream",
     "text": [
      "This is child init\n",
      "This is dad's init\n"
     ]
    }
   ],
   "source": [
    "obj = child()\n"
   ]
  },
  {
   "cell_type": "code",
   "execution_count": 7,
   "id": "d8e1cf66",
   "metadata": {},
   "outputs": [
    {
     "name": "stdout",
     "output_type": "stream",
     "text": [
      "This is child method\n",
      "This is dad's method\n"
     ]
    }
   ],
   "source": [
    "obj.func1()"
   ]
  },
  {
   "cell_type": "code",
   "execution_count": 9,
   "id": "cbfbd0f9",
   "metadata": {},
   "outputs": [
    {
     "name": "stdout",
     "output_type": "stream",
     "text": [
      "\n",
      "Name of fruit: Mango\n",
      "Taste: Sour\n",
      "Quantity: 5\n",
      "Price per KG: 180\n"
     ]
    }
   ],
   "source": [
    "from abc import ABC, abstractmethod\n",
    "import logging\n",
    "logging.basicConfig(filename=\"AbstractLog.log\", level=logging.DEBUG, format='%(asctime)s %(levelname)s %(message)s')\n",
    "\n",
    "class Fruit(ABC):\n",
    "    \"\"\"\n",
    "    This abstract class will act as a blueprint for the sub classes and contains abstract methods\n",
    "    \"\"\"\n",
    "    def __init__(self):\n",
    "        logging.info(\"... Abstract class executed ...\")\n",
    "\n",
    "    @abstractmethod\n",
    "    def showDetails(self):\n",
    "        \"\"\"This abstract method is just blueprint and returns None\"\"\"\n",
    "        pass\n",
    "    \n",
    "\n",
    "class Mango(Fruit):\n",
    "    \"\"\"\n",
    "    This class is derived from the abstract class (Fruit) and has few properties\n",
    "    \"\"\"\n",
    "    def __init__(self, taste, qty, price):\n",
    "        self.name = \"Mango\"\n",
    "        self.taste = taste\n",
    "        self.qty = qty\n",
    "        self.price = price\n",
    "        logging.info(\"... Mango class executed ...\")\n",
    "\n",
    "    def showDetails(self):\n",
    "        \"\"\"\n",
    "        This method will show/print the properties of Mango fruit.\n",
    "        Returns: None\n",
    "        \"\"\"\n",
    "        print(\"\\nName of fruit:\", self.name)\n",
    "        print(\"Taste:\", self.taste)\n",
    "        print(\"Quantity:\", self.qty)\n",
    "        print(\"Price per KG:\", self.price)\n",
    "    \n",
    "    \n",
    "if __name__ == '__main__':\n",
    "    logging.info(\"*** Application started ***\")\n",
    "    wild_mango = Mango(\"Sour\", 5, 180)\n",
    "    wild_mango.showDetails()\n",
    "    logging.info(\"*** End of Application process ***\")"
   ]
  },
  {
   "cell_type": "code",
   "execution_count": null,
   "id": "6cd2ecd7",
   "metadata": {},
   "outputs": [],
   "source": []
  }
 ],
 "metadata": {
  "kernelspec": {
   "display_name": "Python 3 (ipykernel)",
   "language": "python",
   "name": "python3"
  },
  "language_info": {
   "codemirror_mode": {
    "name": "ipython",
    "version": 3
   },
   "file_extension": ".py",
   "mimetype": "text/x-python",
   "name": "python",
   "nbconvert_exporter": "python",
   "pygments_lexer": "ipython3",
   "version": "3.9.7"
  }
 },
 "nbformat": 4,
 "nbformat_minor": 5
}
