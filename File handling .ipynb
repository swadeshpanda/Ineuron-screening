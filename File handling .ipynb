{
 "cells": [
  {
   "cell_type": "markdown",
   "id": "2c0a9dab",
   "metadata": {},
   "source": [
    "###Create a function in python to read the text file and replace specific content\n",
    "of the file."
   ]
  },
  {
   "cell_type": "code",
   "execution_count": 24,
   "id": "cd67759e",
   "metadata": {},
   "outputs": [],
   "source": [
    "import logging\n",
    "logging.basicConfig(filename=\"FileOpLog2.log\", level=logging.DEBUG, format='%(asctime)s %(levelname)s %(message)s')\n",
    "\n",
    "class screening():\n",
    "    \n",
    "    \n",
    "    def __init__(self,filename,write):\n",
    "        logging.info(\"... Code started ...\")\n",
    "        self.filename = filename\n",
    "        self.write = write\n",
    "        \n",
    "    try:\n",
    "        with open(self.filename, \"w\") as file:\n",
    "                file.write(self.write)\n",
    "    except Exception as err:\n",
    "            logging.exception(f\"Exception occurred while creating the file.Error:{err}\")\n",
    "            \n",
    "    def readFile(self):\n",
    "        \"\"\"\n",
    "        This method will open the file in read mode and return the file contents/data as a string\n",
    "        \"\"\"\n",
    "        try:\n",
    "            logging.info(f\"Here we are reading the file: {self.filename}\")\n",
    "            with open(self.filename, \"r\") as file:\n",
    "                data = file.read()\n",
    "        except Exception as err:\n",
    "            logging.exception(f\"Exception occurred while reading the file. Error: {err}\")\n",
    "        return data\n",
    "    \n",
    "    def update(self,replaced_string,replacing_string):\n",
    "        \n",
    "        try:\n",
    "            logging.info(f\"File update operation : {self.filename}\")\n",
    "            with open(self.filename, \"r+\") as file:\n",
    "                data = file.read()\n",
    "                updated_data = data.replace(replaced_string,replacing_string)\n",
    "                file.seek(0)\n",
    "                file.write(updated_data)\n",
    "        except Exception as err:\n",
    "            logging.exception(f\"Exception occurred while replacing file content or updating the file. Error: {err}\")\n",
    "        \n",
    "        \n",
    "        \n",
    "       "
   ]
  },
  {
   "cell_type": "code",
   "execution_count": 25,
   "id": "ea963f9f",
   "metadata": {},
   "outputs": [
    {
     "name": "stdout",
     "output_type": "stream",
     "text": [
      "Before replace: This is a placement assignment\n",
      "After replacing: This is a screening assignment\n"
     ]
    }
   ],
   "source": [
    "if __name__ == '__main__':\n",
    "    logging.info(\"*** Application started ***\")\n",
    "    file1 = ReadText(\"TextFile3.txt\", \"This is a placement assignment\")\n",
    "    print(\"Before replace:\", file1.readFile())\n",
    "    file1.updateFile(\"placement\", \"screening\")\n",
    "    print(\"After replacing:\", file1.readFile())\n",
    "    logging.info(\"*** End of Application process ***\")"
   ]
  },
  {
   "cell_type": "code",
   "execution_count": null,
   "id": "d4a391ce",
   "metadata": {},
   "outputs": [],
   "source": []
  }
 ],
 "metadata": {
  "kernelspec": {
   "display_name": "Python 3 (ipykernel)",
   "language": "python",
   "name": "python3"
  },
  "language_info": {
   "codemirror_mode": {
    "name": "ipython",
    "version": 3
   },
   "file_extension": ".py",
   "mimetype": "text/x-python",
   "name": "python",
   "nbconvert_exporter": "python",
   "pygments_lexer": "ipython3",
   "version": "3.9.7"
  }
 },
 "nbformat": 4,
 "nbformat_minor": 5
}
